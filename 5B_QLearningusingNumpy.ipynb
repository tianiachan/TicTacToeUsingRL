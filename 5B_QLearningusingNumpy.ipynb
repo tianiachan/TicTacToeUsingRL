{
  "nbformat": 4,
  "nbformat_minor": 0,
  "metadata": {
    "colab": {
      "name": "5B_QLearningusingNumpy.ipynb",
      "provenance": [],
      "machine_shape": "hm",
      "authorship_tag": "ABX9TyPosoxtlE9wGuOo7vYsP8pe",
      "include_colab_link": true
    },
    "kernelspec": {
      "name": "python3",
      "display_name": "Python 3"
    },
    "language_info": {
      "name": "python"
    },
    "accelerator": "GPU",
    "gpuClass": "standard"
  },
  "cells": [
    {
      "cell_type": "markdown",
      "metadata": {
        "id": "view-in-github",
        "colab_type": "text"
      },
      "source": [
        "<a href=\"https://colab.research.google.com/github/tianiachan/TicTacToeUsingRL/blob/main/5B_QLearningusingNumpy.ipynb\" target=\"_parent\"><img src=\"https://colab.research.google.com/assets/colab-badge.svg\" alt=\"Open In Colab\"/></a>"
      ]
    },
    {
      "cell_type": "code",
      "source": [
        "#source: https://github.com/sayakpaul/FloydHub-Q-Learning-Blog/blob/master/Q-Learning%20using%20numpy.ipynb\n",
        "\n",
        "# Only numpy\n",
        "import numpy as np"
      ],
      "metadata": {
        "id": "ngZKraKE3JYs"
      },
      "execution_count": 1,
      "outputs": []
    },
    {
      "cell_type": "code",
      "source": [
        "# Initialize parameters\n",
        "gamma = 0.9 # Discount factor \n",
        "alpha = 0.75 # Learning rate"
      ],
      "metadata": {
        "id": "7Gmx4Ip_1mla"
      },
      "execution_count": 2,
      "outputs": []
    },
    {
      "cell_type": "code",
      "source": [
        "#second run\n",
        "# Initialize parameters\n",
        "gamma = 0.5 # Discount factor \n",
        "alpha = 0.5 # Learning rate"
      ],
      "metadata": {
        "id": "XNr8ccxV1oYc"
      },
      "execution_count": 25,
      "outputs": []
    },
    {
      "cell_type": "code",
      "source": [
        "#third run\n",
        "# Initialize parameters\n",
        "gamma = 0.75 # Discount factor \n",
        "alpha = 0.75 # Learning rate"
      ],
      "metadata": {
        "id": "pK7CHJqt2hZE"
      },
      "execution_count": 29,
      "outputs": []
    },
    {
      "cell_type": "code",
      "source": [
        "#fourth run\n",
        "# Initialize parameters\n",
        "gamma = 0.3 # Discount factor \n",
        "alpha = 0.3 # Learning rate"
      ],
      "metadata": {
        "id": "0RP5HZws6uhE"
      },
      "execution_count": 33,
      "outputs": []
    },
    {
      "cell_type": "code",
      "source": [
        "# Define the states\n",
        "location_to_state = {\n",
        "    'L1' : 0,\n",
        "    'L2' : 1,\n",
        "    'L3' : 2,\n",
        "    'L4' : 3,\n",
        "    'L5' : 4,\n",
        "    'L6' : 5,\n",
        "    'L7' : 6,\n",
        "    'L8' : 7,\n",
        "    'L9' : 8\n",
        "}\n",
        "\n",
        "# Define the actions\n",
        "actions = [0,1,2,3,4,5,6,7,8]\n",
        "\n",
        "# Define the rewards\n",
        "rewards = np.array([[0,1,0,0,0,0,0,0,0],\n",
        "              [1,0,1,0,0,0,0,0,0],\n",
        "              [0,1,0,0,0,1,0,0,0],\n",
        "              [0,0,0,0,0,0,1,0,0],\n",
        "              [0,1,0,0,1,0,0,1,0], # this is where we added a reward value for L5\n",
        "              [0,0,1,0,0,0,0,0,0],\n",
        "              [0,0,0,1,0,0,0,1,0],\n",
        "              [0,0,0,0,1,0,1,0,1],\n",
        "              [0,0,0,0,0,0,0,1,0]])\n",
        "        \n",
        "# Maps indices to locations\n",
        "state_to_location = dict((state,location) for location,state in location_to_state.items())"
      ],
      "metadata": {
        "id": "VXxgbCRkTZ7Q"
      },
      "execution_count": null,
      "outputs": []
    },
    {
      "cell_type": "code",
      "execution_count": 3,
      "metadata": {
        "id": "dPO67iwt3JpH"
      },
      "outputs": [],
      "source": [
        "# Define the states again for 10 states\n",
        "location_to_state = {\n",
        "    'L1' : 0,\n",
        "    'L2' : 1,\n",
        "    'L3' : 2,\n",
        "    'L4' : 3,\n",
        "    'L5' : 4,\n",
        "    'L6' : 5,\n",
        "    'L7' : 6,\n",
        "    'L8' : 7,\n",
        "    'L9' : 8,\n",
        "    'L10' : 9\n",
        "}\n",
        "\n",
        "# Define the actions\n",
        "actions = [0,1,2,3,4,5,6,7,8]\n",
        "\n",
        "# Define the rewards\n",
        "rewards = np.array([[0,1,0,0,0,0,0,0,0,0],\n",
        "                  [1,0,1,0,0,0,0,0,0,0],\n",
        "                  [0,1,0,0,0,1,0,0,0,0],\n",
        "                  [0,0,0,0,0,0,1,0,0,0],\n",
        "                  [0,1,0,0,1,0,0,1,0,0], # this is where we added a reward value for L5\n",
        "                  [0,0,1,0,0,0,0,0,0,0],\n",
        "                  [0,0,0,1,0,0,0,1,0,0],\n",
        "                  [0,0,0,0,1,0,1,0,1,0],\n",
        "                  [0,0,0,0,0,0,0,1,0,1]])\n",
        "        \n",
        "# Maps indices to locations\n",
        "state_to_location = dict((state,location) for location,state in location_to_state.items())\n",
        "\n",
        "\n"
      ]
    },
    {
      "cell_type": "code",
      "execution_count": 4,
      "metadata": {
        "id": "VFmkX6aAy7rr"
      },
      "outputs": [],
      "source": [
        "def get_optimal_route(start_location,end_location):\n",
        "    # Copy the rewards matrix to new Matrix\n",
        "    rewards_new = np.copy(rewards)\n",
        "    # Get the ending state corresponding to the ending location as given\n",
        "    ending_state = location_to_state[end_location]\n",
        "    # With the above information automatically set the priority of the given ending state to the highest one\n",
        "    rewards_new[ending_state,ending_state] = 999\n",
        "\n",
        "    # -----------Q-Learning algorithm-----------\n",
        "   \n",
        "    # Initializing Q-Values\n",
        "    Q = np.array(np.zeros([9,9]))\n",
        "\n",
        "    # Q-Learning process\n",
        "    for i in range(1000):\n",
        "    # for i in range(200):\n",
        "    # for i in range(50):\n",
        "        # Pick up a state randomly\n",
        "        current_state = np.random.randint(0,9) # Python excludes the upper bound\n",
        "        # For traversing through the neighbor locations in the maze\n",
        "        playable_actions = []\n",
        "        # Iterate through the new rewards matrix and get the actions > 0\n",
        "        for j in range(9):\n",
        "            if rewards_new[current_state,j] > 0:\n",
        "                playable_actions.append(j)\n",
        "        # Pick an action randomly from the list of playable actions leading us to the next state\n",
        "        next_state = np.random.choice(playable_actions)\n",
        "        # Compute the temporal difference\n",
        "        # The action here exactly refers to going to the next state\n",
        "        TD = rewards_new[current_state,next_state] + gamma * Q[next_state, np.argmax(Q[next_state,])] - Q[current_state,next_state]\n",
        "        # Update the Q-Value using the Bellman equation\n",
        "        Q[current_state,next_state] += alpha * TD\n",
        "\n",
        "    # Initialize the optimal route with the starting location\n",
        "    route = [start_location]\n",
        "    # We do not know about the next location yet, so initialize with the value of starting location\n",
        "    next_location = start_location\n",
        "    \n",
        "    #step counter\n",
        "    steps = 0\n",
        "    # We don't know about the exact number of iterations needed to reach to the final location hence while loop will be a good choice for iteratiing\n",
        "    while(next_location != end_location):\n",
        "        # Fetch the starting state\n",
        "        starting_state = location_to_state[start_location]\n",
        "        # Fetch the highest Q-value pertaining to starting state\n",
        "        next_state = np.argmax(Q[starting_state,])\n",
        "        # We got the index of the next state. But we need the corresponding letter. \n",
        "        next_location = state_to_location[next_state]\n",
        "        route.append(next_location)\n",
        "        # Update the starting location for the next iteration\n",
        "        start_location = next_location\n",
        "        #increment number of steps \n",
        "        steps +=1 \n",
        "    \n",
        "    return route, steps\n",
        "\n"
      ]
    },
    {
      "cell_type": "code",
      "source": [
        "#print results\n",
        "print(f'Discount Value: {gamma} \\nLearning Rate: {alpha}')\n",
        "print(get_optimal_route('L2', 'L5'))"
      ],
      "metadata": {
        "colab": {
          "base_uri": "https://localhost:8080/"
        },
        "id": "OHc7mheS3_FD",
        "outputId": "37faf52d-01cc-40af-e10a-f15243174f80"
      },
      "execution_count": null,
      "outputs": [
        {
          "output_type": "stream",
          "name": "stdout",
          "text": [
            "Discount Value: 0.9 \n",
            "Learning Rate: 0.75\n"
          ]
        }
      ]
    },
    {
      "cell_type": "code",
      "source": [
        ""
      ],
      "metadata": {
        "id": "41VLdVL44bTK"
      },
      "execution_count": null,
      "outputs": []
    }
  ]
}