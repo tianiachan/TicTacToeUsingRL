{
  "cells": [
    {
      "cell_type": "markdown",
      "metadata": {
        "id": "view-in-github",
        "colab_type": "text"
      },
      "source": [
        "<a href=\"https://colab.research.google.com/github/tianiachan/TicTacToeUsingRL/blob/main/5B_QLearningusingNumpy.ipynb\" target=\"_parent\"><img src=\"https://colab.research.google.com/assets/colab-badge.svg\" alt=\"Open In Colab\"/></a>"
      ]
    },
    {
      "cell_type": "code",
      "execution_count": 9,
      "metadata": {
        "id": "ngZKraKE3JYs"
      },
      "outputs": [],
      "source": [
        "#source: https://github.com/sayakpaul/FloydHub-Q-Learning-Blog/blob/master/Q-Learning%20using%20numpy.ipynb\n",
        "\n",
        "# Only numpy\n",
        "import numpy as np"
      ]
    },
    {
      "cell_type": "code",
      "execution_count": null,
      "metadata": {
        "id": "7Gmx4Ip_1mla"
      },
      "outputs": [],
      "source": [
        "# Initialize parameters\n",
        "gamma = 0.9 # Discount factor \n",
        "alpha = 0.75 # Learning rate"
      ]
    },
    {
      "cell_type": "code",
      "execution_count": null,
      "metadata": {
        "id": "XNr8ccxV1oYc"
      },
      "outputs": [],
      "source": [
        "#second run\n",
        "# Initialize parameters\n",
        "gamma = 0.5 # Discount factor \n",
        "alpha = 0.5 # Learning rate"
      ]
    },
    {
      "cell_type": "code",
      "execution_count": null,
      "metadata": {
        "id": "pK7CHJqt2hZE"
      },
      "outputs": [],
      "source": [
        "#third run\n",
        "# Initialize parameters\n",
        "gamma = 0.75 # Discount factor \n",
        "alpha = 0.75 # Learning rate"
      ]
    },
    {
      "cell_type": "code",
      "execution_count": null,
      "metadata": {
        "id": "0RP5HZws6uhE"
      },
      "outputs": [],
      "source": [
        "#fourth run\n",
        "# Initialize parameters\n",
        "gamma = 0.3 # Discount factor \n",
        "alpha = 0.3 # Learning rate"
      ]
    },
    {
      "cell_type": "code",
      "execution_count": null,
      "metadata": {
        "id": "dPO67iwt3JpH"
      },
      "outputs": [],
      "source": [
        "# Define the states\n",
        "location_to_state = {\n",
        "    'L1' : 0,\n",
        "    'L2' : 1,\n",
        "    'L3' : 2,\n",
        "    'L4' : 3,\n",
        "    'L5' : 4,\n",
        "    'L6' : 5,\n",
        "    'L7' : 6,\n",
        "    'L8' : 7,\n",
        "    'L9' : 8\n",
        "}\n",
        "\n",
        "# Define the actions\n",
        "actions = [0,1,2,3,4,5,6,7,8]\n",
        "\n",
        "# Define the rewards\n",
        "rewards = np.array([[0,1,0,0,0,0,0,0,0],\n",
        "              [1,0,1,0,0,0,0,0,0],  #L2 rewards\n",
        "              [0,1,0,0,0,1,0,0,0],\n",
        "              [0,0,0,0,0,0,1,0,0],\n",
        "              [0,1,0,0,0,0,0,1,0], \n",
        "              [0,0,1,0,0,0,0,0,0],\n",
        "              [0,0,0,1,0,0,0,1,0],\n",
        "              [0,0,0,0,1,0,1,0,1],\n",
        "              [0,0,0,0,0,0,0,1,0]])\n",
        "        \n",
        "# Maps indices to locations\n",
        "state_to_location = dict((state,location) for location,state in location_to_state.items())\n",
        "\n",
        "\n"
      ]
    },
    {
      "cell_type": "code",
      "source": [
        "#change rewards for step 8\n",
        "rewards = np.array([[0,1,0,0,0,0,0,0,0],\n",
        "              [1,0,1,0,1,0,0,0,0],\n",
        "              [0,1,0,0,0,1,0,0,0],\n",
        "              [0,0,0,0,0,0,1,0,0],\n",
        "              [0,1,0,0,0,0,0,1,0], \n",
        "              [0,0,1,0,0,0,0,0,0],\n",
        "              [0,0,0,1,0,0,0,1,0],\n",
        "              [0,0,0,0,1,0,1,0,1],\n",
        "              [0,0,0,0,0,0,0,1,0]])"
      ],
      "metadata": {
        "id": "n7KT-y2xIEls"
      },
      "execution_count": null,
      "outputs": []
    },
    {
      "cell_type": "code",
      "execution_count": null,
      "metadata": {
        "id": "VFmkX6aAy7rr"
      },
      "outputs": [],
      "source": [
        "def get_optimal_route(start_location,end_location):\n",
        "    # Copy the rewards matrix to new Matrix\n",
        "    rewards_new = np.copy(rewards)\n",
        "    # Get the ending state corresponding to the ending location as given\n",
        "    ending_state = location_to_state[end_location]\n",
        "    # With the above information automatically set the priority of the given ending state to the highest one\n",
        "    rewards_new[ending_state,ending_state] = 999\n",
        "\n",
        "    print(rewards_new)\n",
        "\n",
        "    # -----------Q-Learning algorithm-----------\n",
        "   \n",
        "    # Initializing Q-Values\n",
        "    Q = np.array(np.zeros([9,9]))\n",
        "    # Q = np.array(np.zeros([10,10])) # for 10 values instead of 9\n",
        "    # Q-Learning process\n",
        "    for i in range(1000):\n",
        "    # for i in range(200):\n",
        "    # for i in range(50):\n",
        "        # Pick up a state randomly\n",
        "        current_state = np.random.randint(0,9) # Python excludes the upper bound\n",
        "        # current_state = np.random.randint(0,10) # Python excludes the upper bound\n",
        "        # For traversing through the neighbor locations in the maze\n",
        "        playable_actions = []\n",
        "        # Iterate through the new rewards matrix and get the actions > 0\n",
        "        for j in range(9):\n",
        "        # for j in range(10):\n",
        "            if rewards_new[current_state,j] > 0:\n",
        "                playable_actions.append(j)\n",
        "        # Pick an action randomly from the list of playable actions leading us to the next state\n",
        "        next_state = np.random.choice(playable_actions)\n",
        "        # Compute the temporal difference\n",
        "        # The action here exactly refers to going to the next state\n",
        "        TD = rewards_new[current_state,next_state] + gamma * Q[next_state, np.argmax(Q[next_state,])] - Q[current_state,next_state]\n",
        "        # Update the Q-Value using the Bellman equation\n",
        "        Q[current_state,next_state] += alpha * TD\n",
        "\n",
        "    print(Q)\n",
        "    # Initialize the optimal route with the starting location\n",
        "    route = [start_location]\n",
        "    # We do not know about the next location yet, so initialize with the value of starting location\n",
        "    next_location = start_location\n",
        "    \n",
        "    #step counter\n",
        "    steps = 0\n",
        "    # We don't know about the exact number of iterations needed to reach to the final location hence while loop will be a good choice for iteratiing\n",
        "    while(next_location != end_location):\n",
        "        # Fetch the starting state\n",
        "        starting_state = location_to_state[start_location]\n",
        "        # Fetch the highest Q-value pertaining to starting state\n",
        "        next_state = np.argmax(Q[starting_state,])\n",
        "        # next_state = np.argmax(Q[2,])\n",
        "        # print(Q[2])\n",
        "        # next_state = np.argmax(Q)\n",
        "        # print(np.argmax(Q))\n",
        "        # print(Q[starting_state,])\n",
        "        # print(next_state)\n",
        "        # We got the index of the next state. But we need the corresponding letter. \n",
        "        next_location = state_to_location[next_state]\n",
        "        # print(next_location)\n",
        "        route.append(next_location)\n",
        "        # Update the starting location for the next iteration\n",
        "        start_location = next_location\n",
        "        #increment number of steps \n",
        "        steps +=1 \n",
        "    \n",
        "    return route, steps\n",
        "\n"
      ]
    },
    {
      "cell_type": "code",
      "execution_count": null,
      "metadata": {
        "colab": {
          "base_uri": "https://localhost:8080/"
        },
        "id": "OHc7mheS3_FD",
        "outputId": "621d2094-abc0-40ae-f862-5d755a2139e5"
      },
      "outputs": [
        {
          "output_type": "stream",
          "name": "stdout",
          "text": [
            "Discount Value: 0.9 \n",
            "Learning Rate: 0.75\n",
            "[[999   1   0   0   0   0   0   0   0]\n",
            " [  1   0   1   0   0   0   0   0   0]\n",
            " [  0   1   0   0   0   1   0   0   0]\n",
            " [  0   0   0   0   0   0   1   0   0]\n",
            " [  0   1   0   0   0   0   0   1   0]\n",
            " [  0   0   1   0   0   0   0   0   0]\n",
            " [  0   0   0   1   0   0   0   1   0]\n",
            " [  0   0   0   0   1   0   1   0   1]\n",
            " [  0   0   0   0   0   0   0   1   0]]\n",
            "[[9863.09969463 7939.0775531     0.            0.            0.\n",
            "     0.            0.            0.            0.        ]\n",
            " [8863.6292488     0.         7127.9379247     0.            0.\n",
            "     0.            0.            0.            0.        ]\n",
            " [   0.         7939.14278646    0.            0.            0.\n",
            "  6378.04518848    0.            0.            0.        ]\n",
            " [   0.            0.            0.            0.            0.\n",
            "     0.         5719.95289626    0.            0.        ]\n",
            " [   0.         7938.93393969    0.            0.            0.\n",
            "     0.            0.         6355.16914603    0.        ]\n",
            " [   0.            0.         7145.19888256    0.            0.\n",
            "     0.            0.            0.            0.        ]\n",
            " [   0.            0.            0.         5145.52919426    0.\n",
            "     0.            0.         6355.16983314    0.        ]\n",
            " [   0.            0.            0.            0.         7060.30110038\n",
            "     0.         5720.02212034    0.         5504.12450471]\n",
            " [   0.            0.            0.            0.            0.\n",
            "     0.            0.         6355.26205916    0.        ]]\n",
            "(['L9', 'L8', 'L5', 'L2', 'L1'], 4)\n"
          ]
        }
      ],
      "source": [
        "#print results\n",
        "print(f'Discount Value: {gamma} \\nLearning Rate: {alpha}')\n",
        "print(get_optimal_route('L9', 'L1'))"
      ]
    },
    {
      "cell_type": "code",
      "source": [
        "#print results -- from l1 to l2\n",
        "print(f'Discount Value: {gamma} \\nLearning Rate: {alpha}')\n",
        "print(get_optimal_route('L1', 'L2'))\n"
      ],
      "metadata": {
        "colab": {
          "base_uri": "https://localhost:8080/"
        },
        "id": "fIIg5vMq2z3f",
        "outputId": "07a94375-d8d4-41f4-e7e6-f46597664dbf"
      },
      "execution_count": null,
      "outputs": [
        {
          "output_type": "stream",
          "name": "stdout",
          "text": [
            "Discount Value: 0.9 \n",
            "Learning Rate: 0.75\n",
            "[[  0   1   0   0   0   0   0   0   0]\n",
            " [  1 999   1   0   0   0   0   0   0]\n",
            " [  0   1   0   0   0   1   0   0   0]\n",
            " [  0   0   0   0   0   0   1   0   0]\n",
            " [  0   1   0   0   0   0   0   1   0]\n",
            " [  0   0   1   0   0   0   0   0   0]\n",
            " [  0   0   0   1   0   0   0   1   0]\n",
            " [  0   0   0   0   1   0   1   0   1]\n",
            " [  0   0   0   0   0   0   0   1   0]]\n",
            "[[   0.         7968.05932743    0.            0.            0.\n",
            "     0.            0.            0.            0.        ]\n",
            " [7108.08762324 8864.16770201 6935.15527541    0.            0.\n",
            "     0.            0.            0.            0.        ]\n",
            " [   0.         7929.99831777    0.            0.            0.\n",
            "  6286.02725905    0.            0.            0.        ]\n",
            " [   0.            0.            0.            0.            0.\n",
            "     0.         5645.34441451    0.            0.        ]\n",
            " [   0.         7868.39023638    0.            0.            0.\n",
            "     0.            0.         6234.58717188    0.        ]\n",
            " [   0.            0.         7005.35228749    0.            0.\n",
            "     0.            0.            0.            0.        ]\n",
            " [   0.            0.            0.         5048.53081113    0.\n",
            "     0.            0.         6295.13413205    0.        ]\n",
            " [   0.            0.            0.            0.         7002.22427484\n",
            "     0.         5416.00014587    0.         5666.76142956]\n",
            " [   0.            0.            0.            0.            0.\n",
            "     0.            0.         6302.2460393     0.        ]]\n",
            "(['L1', 'L2'], 1)\n"
          ]
        }
      ]
    },
    {
      "cell_type": "code",
      "source": [
        "#print results -- from l2to l5\n",
        "print(f'Discount Value: {gamma} \\nLearning Rate: {alpha}')\n",
        "print(get_optimal_route('L2', 'L5'))\n",
        "# print(get_optimal_route('L8', 'L5'))"
      ],
      "metadata": {
        "colab": {
          "base_uri": "https://localhost:8080/"
        },
        "id": "SRehA7LI25dF",
        "outputId": "fdcec89d-e3c0-4e01-a6fc-42b24b89ef65"
      },
      "execution_count": null,
      "outputs": [
        {
          "output_type": "stream",
          "name": "stdout",
          "text": [
            "Discount Value: 0.9 \n",
            "Learning Rate: 0.75\n",
            "[[  0   1   0   0   0   0   0   0   0]\n",
            " [  1   0   1   0   1   0   0   0   0]\n",
            " [  0   1   0   0   0   1   0   0   0]\n",
            " [  0   0   0   0   0   0   1   0   0]\n",
            " [  0   1   0   0 999   0   0   1   0]\n",
            " [  0   0   1   0   0   0   0   0   0]\n",
            " [  0   0   0   1   0   0   0   1   0]\n",
            " [  0   0   0   0   1   0   1   0   1]\n",
            " [  0   0   0   0   0   0   0   1   0]]\n",
            "[[   0.         7704.38984495    0.            0.            0.\n",
            "     0.            0.            0.            0.        ]\n",
            " [6919.45608254    0.         6547.49361972    0.         8559.88679009\n",
            "     0.            0.            0.            0.        ]\n",
            " [   0.         7669.65336563    0.            0.            0.\n",
            "  6208.57747339    0.            0.            0.        ]\n",
            " [   0.            0.            0.            0.            0.\n",
            "     0.         6905.4223685     0.            0.        ]\n",
            " [   0.         7520.01866445    0.            0.         9548.29058998\n",
            "     0.            0.         7626.1258301     0.        ]\n",
            " [   0.            0.         6903.678134      0.            0.\n",
            "     0.            0.            0.            0.        ]\n",
            " [   0.            0.            0.         6211.57701522    0.\n",
            "     0.            0.         7671.83327547    0.        ]\n",
            " [   0.            0.            0.            0.         8585.85853918\n",
            "     0.         6898.65334658    0.         6903.52563955]\n",
            " [   0.            0.            0.            0.            0.\n",
            "     0.            0.         7727.90795096    0.        ]]\n",
            "(['L2', 'L5'], 1)\n"
          ]
        }
      ]
    },
    {
      "cell_type": "code",
      "source": [
        "#print results -- from l5 to l8\n",
        "print(f'Discount Value: {gamma} \\nLearning Rate: {alpha}')\n",
        "print(get_optimal_route('L5', 'L8'))"
      ],
      "metadata": {
        "colab": {
          "base_uri": "https://localhost:8080/"
        },
        "id": "Zh_1liiC3EL5",
        "outputId": "aeed7c65-0c5b-4a35-a2cd-f12d7d93ac27"
      },
      "execution_count": null,
      "outputs": [
        {
          "output_type": "stream",
          "name": "stdout",
          "text": [
            "Discount Value: 0.9 \n",
            "Learning Rate: 0.75\n",
            "[[  0   1   0   0   0   0   0   0   0]\n",
            " [  1   0   1   0   0   0   0   0   0]\n",
            " [  0   1   0   0   0   1   0   0   0]\n",
            " [  0   0   0   0   0   0   1   0   0]\n",
            " [  0   1   0   0   0   0   0   1   0]\n",
            " [  0   0   1   0   0   0   0   0   0]\n",
            " [  0   0   0   1   0   0   0   1   0]\n",
            " [  0   0   0   0   1   0   1 999   1]\n",
            " [  0   0   0   0   0   0   0   1   0]]\n",
            "(['L5', 'L8'], 1)\n"
          ]
        }
      ]
    },
    {
      "cell_type": "code",
      "source": [
        "#print results -- from l8 to l9\n",
        "print(f'Discount Value: {gamma} \\nLearning Rate: {alpha}')\n",
        "print(get_optimal_route('L8', 'L9'))"
      ],
      "metadata": {
        "colab": {
          "base_uri": "https://localhost:8080/"
        },
        "id": "vm6AMSfc3KtL",
        "outputId": "afec1ea5-b053-47ff-a303-cb6fe0688d6f"
      },
      "execution_count": null,
      "outputs": [
        {
          "output_type": "stream",
          "name": "stdout",
          "text": [
            "Discount Value: 0.9 \n",
            "Learning Rate: 0.75\n",
            "[[  0   1   0   0   0   0   0   0   0]\n",
            " [  1   0   1   0   0   0   0   0   0]\n",
            " [  0   1   0   0   0   1   0   0   0]\n",
            " [  0   0   0   0   0   0   1   0   0]\n",
            " [  0   1   0   0   0   0   0   1   0]\n",
            " [  0   0   1   0   0   0   0   0   0]\n",
            " [  0   0   0   1   0   0   0   1   0]\n",
            " [  0   0   0   0   1   0   1   0   1]\n",
            " [  0   0   0   0   0   0   0   1 999]]\n",
            "(['L8', 'L9'], 1)\n"
          ]
        }
      ]
    },
    {
      "cell_type": "code",
      "source": [
        "#step 9\n",
        "# Initialize parameters\n",
        "gamma = 0.9 # Discount factor \n",
        "alpha = 0.75 # Learning rate"
      ],
      "metadata": {
        "id": "X2MCyPyXmmE5"
      },
      "execution_count": 10,
      "outputs": []
    },
    {
      "cell_type": "code",
      "source": [
        "# Define the states - to include L10\n",
        "location_to_state = {\n",
        "    'L1' : 0,\n",
        "    'L2' : 1,\n",
        "    'L3' : 2,\n",
        "    'L4' : 3,\n",
        "    'L5' : 4,\n",
        "    'L6' : 5,\n",
        "    'L7' : 6,\n",
        "    'L8' : 7,\n",
        "    'L9' : 8,\n",
        "    'L10' : 9\n",
        "}\n",
        "\n",
        "# Define the actions\n",
        "actions = [0,1,2,3,4,5,6,7,8,9]\n",
        "\n",
        "# Define the rewards\n",
        "rewards = np.array([[0,1,0,0,0,0,0,0,0,0], #l1\n",
        "              [1,0,1,0,0,0,0,0,0,0], #l2\n",
        "              [0,1,0,0,0,1,0,0,0,0], #l3\n",
        "              [0,0,0,0,0,0,1,0,0,0], #l4\n",
        "              [0,1,0,0,0,0,0,1,0,0], #l5\n",
        "              [0,0,1,0,0,0,0,0,0,0], #l6\n",
        "              [0,0,0,1,0,0,0,1,0,0], #l7\n",
        "              [0,0,0,0,1,0,1,0,1,0], #l8\n",
        "              [0,0,0,0,0,0,0,1,0,1], #l9\n",
        "              [0,0,0,0,0,0,0,0,1,0]]) #l10\n",
        "        \n",
        "# Maps indices to locations\n",
        "state_to_location = dict((state,location) for location,state in location_to_state.items())"
      ],
      "metadata": {
        "id": "n1kLkI2oyr_r"
      },
      "execution_count": 11,
      "outputs": []
    },
    {
      "cell_type": "code",
      "source": [
        "def get_optimal_route(start_location,end_location):\n",
        "    # Copy the rewards matrix to new Matrix\n",
        "    rewards_new = np.copy(rewards)\n",
        "    # Get the ending state corresponding to the ending location as given\n",
        "    ending_state = location_to_state[end_location]\n",
        "    # With the above information automatically set the priority of the given ending state to the highest one\n",
        "    rewards_new[ending_state,ending_state] = 999\n",
        "\n",
        "    print(rewards_new)\n",
        "\n",
        "    # -----------Q-Learning algorithm-----------\n",
        "   \n",
        "    # Initializing Q-Values\n",
        "    # Q = np.array(np.zeros([9,9]))\n",
        "    Q = np.array(np.zeros([10,10])) # for 10 values instead of 9\n",
        "    # Q-Learning process\n",
        "    for i in range(1000):\n",
        "    # for i in range(200):\n",
        "    # for i in range(50):\n",
        "        # Pick up a state randomly\n",
        "        # current_state = np.random.randint(0,9) # Python excludes the upper bound\n",
        "        current_state = np.random.randint(0,10) # Python excludes the upper bound\n",
        "        # For traversing through the neighbor locations in the maze\n",
        "        playable_actions = []\n",
        "        # Iterate through the new rewards matrix and get the actions > 0\n",
        "        # for j in range(9):\n",
        "        for j in range(10):\n",
        "            if rewards_new[current_state,j] > 0:\n",
        "                playable_actions.append(j)\n",
        "        # Pick an action randomly from the list of playable actions leading us to the next state\n",
        "        next_state = np.random.choice(playable_actions)\n",
        "        # Compute the temporal difference\n",
        "        # The action here exactly refers to going to the next state\n",
        "        TD = rewards_new[current_state,next_state] + gamma * Q[next_state, np.argmax(Q[next_state,])] - Q[current_state,next_state]\n",
        "        # Update the Q-Value using the Bellman equation\n",
        "        Q[current_state,next_state] += alpha * TD\n",
        "\n",
        "    # Initialize the optimal route with the starting location\n",
        "    route = [start_location]\n",
        "    # We do not know about the next location yet, so initialize with the value of starting location\n",
        "    next_location = start_location\n",
        "    \n",
        "    #step counter\n",
        "    steps = 0\n",
        "    # We don't know about the exact number of iterations needed to reach to the final location hence while loop will be a good choice for iteratiing\n",
        "    while(next_location != end_location):\n",
        "        # Fetch the starting state\n",
        "        starting_state = location_to_state[start_location]\n",
        "        # Fetch the highest Q-value pertaining to starting state\n",
        "        next_state = np.argmax(Q[starting_state,])\n",
        "        # We got the index of the next state. But we need the corresponding letter. \n",
        "        next_location = state_to_location[next_state]\n",
        "        route.append(next_location)\n",
        "        # Update the starting location for the next iteration\n",
        "        start_location = next_location\n",
        "        #increment number of steps \n",
        "        steps +=1 \n",
        "    \n",
        "    return route, steps"
      ],
      "metadata": {
        "id": "iGvAkS5xyvnO"
      },
      "execution_count": 12,
      "outputs": []
    },
    {
      "cell_type": "code",
      "source": [
        "#print results  -- default to make sure changes all work\n",
        "print(f'Discount Value: {gamma} \\nLearning Rate: {alpha}')\n",
        "print(get_optimal_route('L9', 'L1'))"
      ],
      "metadata": {
        "colab": {
          "base_uri": "https://localhost:8080/"
        },
        "id": "ktA9D9t0y0vx",
        "outputId": "5f609b3a-a29d-4292-f706-d20d012d030f"
      },
      "execution_count": 13,
      "outputs": [
        {
          "output_type": "stream",
          "name": "stdout",
          "text": [
            "Discount Value: 0.9 \n",
            "Learning Rate: 0.75\n",
            "[[999   1   0   0   0   0   0   0   0   0]\n",
            " [  1   0   1   0   0   0   0   0   0   0]\n",
            " [  0   1   0   0   0   1   0   0   0   0]\n",
            " [  0   0   0   0   0   0   1   0   0   0]\n",
            " [  0   1   0   0   0   0   0   1   0   0]\n",
            " [  0   0   1   0   0   0   0   0   0   0]\n",
            " [  0   0   0   1   0   0   0   1   0   0]\n",
            " [  0   0   0   0   1   0   1   0   1   0]\n",
            " [  0   0   0   0   0   0   0   1   0   1]\n",
            " [  0   0   0   0   0   0   0   0   1   0]]\n",
            "(['L9', 'L8', 'L5', 'L2', 'L1'], 4)\n"
          ]
        }
      ]
    },
    {
      "cell_type": "code",
      "source": [
        "#print results\n",
        "print(f'Discount Value: {gamma} \\nLearning Rate: {alpha}')\n",
        "print(get_optimal_route('L10', 'L1'))"
      ],
      "metadata": {
        "colab": {
          "base_uri": "https://localhost:8080/"
        },
        "id": "IqmpKzXk2RBO",
        "outputId": "661e86cf-759a-40c1-dc31-bff8681010ee"
      },
      "execution_count": 14,
      "outputs": [
        {
          "output_type": "stream",
          "name": "stdout",
          "text": [
            "Discount Value: 0.9 \n",
            "Learning Rate: 0.75\n",
            "[[999   1   0   0   0   0   0   0   0   0]\n",
            " [  1   0   1   0   0   0   0   0   0   0]\n",
            " [  0   1   0   0   0   1   0   0   0   0]\n",
            " [  0   0   0   0   0   0   1   0   0   0]\n",
            " [  0   1   0   0   0   0   0   1   0   0]\n",
            " [  0   0   1   0   0   0   0   0   0   0]\n",
            " [  0   0   0   1   0   0   0   1   0   0]\n",
            " [  0   0   0   0   1   0   1   0   1   0]\n",
            " [  0   0   0   0   0   0   0   1   0   1]\n",
            " [  0   0   0   0   0   0   0   0   1   0]]\n",
            "(['L10', 'L9', 'L8', 'L5', 'L2', 'L1'], 5)\n"
          ]
        }
      ]
    },
    {
      "cell_type": "code",
      "source": [
        "#print results\n",
        "print(f'Discount Value: {gamma} \\nLearning Rate: {alpha}')\n",
        "print(get_optimal_route('L10', 'L4'))"
      ],
      "metadata": {
        "id": "kZx5eFr02Z_4",
        "colab": {
          "base_uri": "https://localhost:8080/"
        },
        "outputId": "0650dbc8-2894-4cc2-c25f-e46057206875"
      },
      "execution_count": 16,
      "outputs": [
        {
          "output_type": "stream",
          "name": "stdout",
          "text": [
            "Discount Value: 0.9 \n",
            "Learning Rate: 0.75\n",
            "[[  0   1   0   0   0   0   0   0   0   0]\n",
            " [  1   0   1   0   0   0   0   0   0   0]\n",
            " [  0   1   0   0   0   1   0   0   0   0]\n",
            " [  0   0   0 999   0   0   1   0   0   0]\n",
            " [  0   1   0   0   0   0   0   1   0   0]\n",
            " [  0   0   1   0   0   0   0   0   0   0]\n",
            " [  0   0   0   1   0   0   0   1   0   0]\n",
            " [  0   0   0   0   1   0   1   0   1   0]\n",
            " [  0   0   0   0   0   0   0   1   0   1]\n",
            " [  0   0   0   0   0   0   0   0   1   0]]\n",
            "(['L10', 'L9', 'L8', 'L7', 'L4'], 4)\n"
          ]
        }
      ]
    }
  ],
  "metadata": {
    "accelerator": "GPU",
    "colab": {
      "machine_shape": "hm",
      "name": "5B_QLearningusingNumpy.ipynb",
      "provenance": [],
      "collapsed_sections": [],
      "authorship_tag": "ABX9TyM/l2q3WHnb52tVSXIVbzt/",
      "include_colab_link": true
    },
    "gpuClass": "standard",
    "kernelspec": {
      "display_name": "Python 3",
      "name": "python3"
    },
    "language_info": {
      "name": "python"
    }
  },
  "nbformat": 4,
  "nbformat_minor": 0
}